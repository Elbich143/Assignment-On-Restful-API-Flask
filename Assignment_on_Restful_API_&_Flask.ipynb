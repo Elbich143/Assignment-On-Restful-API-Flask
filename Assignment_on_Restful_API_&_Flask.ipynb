{
  "nbformat": 4,
  "nbformat_minor": 0,
  "metadata": {
    "colab": {
      "provenance": []
    },
    "kernelspec": {
      "name": "python3",
      "display_name": "Python 3"
    },
    "language_info": {
      "name": "python"
    }
  },
  "cells": [
    {
      "cell_type": "markdown",
      "source": [
        "  **Theorytical Questions**"
      ],
      "metadata": {
        "id": "EiSXztsXV5MG"
      }
    },
    {
      "cell_type": "markdown",
      "source": [
        "## Q1. What is a RESTful API?\n",
        "A **RESTful API** (Representational State Transfer API) is a web service that follows the principles of REST architecture.  \n",
        "\n",
        "Key Characteristics:\n",
        "- **Stateless**: Each request is independent and does not rely on previous requests.\n",
        "- **Client-Server Separation**: Client handles UI, server handles data and logic.\n",
        "- **Resource-based**: Data is treated as resources (e.g., `/users`, `/products`).\n",
        "- **Standard HTTP Methods**: Uses GET, POST, PUT, DELETE, etc.\n",
        "- **Data Format**: JSON is commonly used for request/response.\n",
        "\n",
        " Example:  \n",
        "A request to `GET /users/1` retrieves details of user with ID 1\n",
        "\n",
        "\n",
        "\n",
        "## Q2. Explain the concept of API specification\n",
        "An **API Specification** is a **contract** between the API provider and consumer.  \n",
        "It explains how the API works, so developers know how to interact with it.  \n",
        "\n",
        "It typically defines:\n",
        "- Endpoints (e.g., `/users`, `/orders`)\n",
        "- Supported HTTP Methods (GET, POST, etc.)\n",
        "- Request Parameters (query, body, headers)\n",
        "- Response Structure (JSON/XML)\n",
        "- Error Codes and Messages\n",
        "- Authentication/Authorization Rules\n",
        "\n",
        "**Example Specification** (OpenAPI/Swagger style):\n",
        "\n",
        "-  GET /users/{id}\n",
        "-  Parameters: id (integer)\n",
        "-  Response: { \"id\": 1, \"name\": \"Alice\" }\n",
        "-  Errors: 404 (Not Found)\n",
        "\n",
        "\n",
        "\n",
        "\n",
        "\n",
        "## Q3. What is Flask, and why is it popular for building APIs?\n",
        "**Flask** is a lightweight, Python-based web framework used to build web applications and APIs.  \n",
        "\n",
        "- Why Flask is Popular:\n",
        "1. **Minimal & Simple** – requires very little setup.\n",
        "2. **Flexible** – does not force specific project structure.\n",
        "3. **Extensible** – supports plugins like Flask-RESTful, Flask-SQLAlchemy.\n",
        "4. **Community Support** – large ecosystem and resources.\n",
        "5. **Perfect for APIs** – since it can quickly create RESTful endpoints.\n",
        "- Flask is often used for **small-to-medium APIs** or as a **prototype framework** before scaling up.\n",
        "\n",
        "\n",
        "\n",
        "## Q4. What is routing in Flask?\n",
        "**Routing** in Flask means **mapping a URL path to a specific function**.  \n",
        "When a user visits a URL, Flask calls the corresponding function (called a **view function**).\n",
        "\n",
        "- Example:\n",
        "-from flask import Flask\n",
        "-app = Flask(__name__)\n",
        "-@app.route('/')\n",
        "-def home():\n",
        "-    return \"Welcome to Flask Routing!\"\n",
        "\n",
        "\n",
        "\n",
        "## Q5. How do you create a simple Flask application?\n",
        "- Example of the simplest Flask app:\n",
        "- from flask import Flask\n",
        "- app = Flask(__name__)\n",
        "- @app.route('/')\n",
        "- def hello():\n",
        "-    return \"Hello, Flask!\"\n",
        "- if __name__ == \"__main__\":\n",
        "-    app.run(debug=True)\n",
        "\n",
        "\n",
        "\n",
        "## Q6. What are HTTP methods used in RESTful APIs?\n",
        "Common **HTTP Methods** in REST:\n",
        "- **GET** → Retrieve data (Read)\n",
        "- **POST** → Create new data\n",
        "- **PUT** → Update/Replace existing data\n",
        "- **PATCH** → Partially update data\n",
        "- **DELETE** → Remove data\n",
        "- **OPTIONS** → Shows allowed operations\n",
        "\n",
        "-  Together, they allow **CRUD (Create, Read, Update, Delete)** operations.\n",
        "\n",
        "\n",
        "\n",
        "## Q7. What is the purpose of the @app.route() decorator in Flask?\n",
        "- The `@app.route()` decorator is used to **bind a URL to a function**.\n",
        "- It defines the **endpoint** for a route.\n",
        "\n",
        "-  Example:\n",
        "- @app.route('/about')\n",
        "- def about():\n",
        "-     return \"This is the About Page\"\n",
        "\n",
        "\n",
        "\n",
        "## Q8. What is the difference between GET and POST HTTP methods?\n",
        "- **GET**:\n",
        "  - Requests data from server.\n",
        "  - Data is sent in the URL (query string).\n",
        "  - Example: `/search?q=flask`\n",
        "- **POST**:\n",
        "  - Sends data to the server.\n",
        "  - Data is sent in the request body.\n",
        "  - Used for form submissions or creating resources.\n",
        "\n",
        "-  Example:\n",
        "- from flask import request\n",
        "\n",
        "- @app.route('/get_example')\n",
        "- def get_example():\n",
        "-     return \"This is a GET request\"\n",
        "\n",
        "- @app.route('/post_example', methods=['POST'])\n",
        "- def post_example():\n",
        "-     data = request.json\n",
        "-     return {\"message\": \"You sent\", \"data\": data}\n",
        "\n",
        "\n",
        "## Q9. How do you handle errors in Flask APIs?\n",
        "- Use @app.errorhandler() to define **custom error responses**.  \n",
        "\n",
        "- Example:\n",
        "- @app.errorhandler(404)\n",
        "- def not_found(e):\n",
        "-     return {\"error\": \"Page not found\"}, 404\n",
        "-This returns a JSON error response instead of HTML.\n",
        "\n",
        "\n",
        "\n",
        "## Q10. How do you connect Flask to a SQL database?\n",
        "- Using **Flask-SQLAlchemy**:\n",
        "- from flask_sqlalchemy import SQLAlchemy\n",
        "\n",
        "- app.config['SQLALCHEMY_DATABASE_URI'] = 'sqlite:///test.db'\n",
        "- db = SQLAlchemy(app)\n",
        "-This connects Flask to a SQLite database named `test.db`.\n",
        "\n",
        "\n",
        "\n",
        "## Q11. What is the role of Flask-SQLAlchemy?\n",
        "- Integrates Flask with SQLAlchemy ORM.  \n",
        "- Allows database interaction using **Python classes** instead of raw SQL.  \n",
        "- Provides methods like `.add()`, `.commit()`, `.query()`.  \n",
        "\n",
        "-  It simplifies database operations in Flask projects.\n",
        "\n",
        "\n",
        "\n",
        "## Q12. What are Flask blueprints, and how are they useful?\n",
        "- Flask blueprints are a powerful feature that allows you to organize your Flask application into modular, reusable components. Think of them as a way to create \"mini-applications\" within your larger Flask project\n",
        "- here's how they are useful:\n",
        "-Code Organization: Blueprints help you structure a large application by grouping related functionality. Instead of having all your routes, views, templates, and static files in a single, massive file, you can separate them into different blueprints based on their purpose (e.g., an auth blueprint for user authentication, a blog blueprint for blog posts).\n",
        "- Modularity and Reusability: Because each blueprint is a self-contained unit, you can easily reuse a blueprint in different Flask applications. For instance, if you build a user authentication system as a blueprint, you can drop it into any new project, register it, and it will work without significant changes\n",
        "- Scalability: As your application grows, blueprints make it much easier to manage. You can have multiple developers working on different blueprints simultaneously without causing conflicts in the main application file\n",
        "- In short, while not necessary for small, single-file applications, blueprints are essential for building well-structured, maintainable, and scalable Flask projects.\n",
        "\n",
        "\n",
        "##Q13 What is the purpose of Flask's request object?\n",
        "-The request object in Flask is a crucial component that encapsulates all the data and information sent from a client's web browser to your server. It's a \"global proxy object\" that becomes available inside your view functions and allows you to access incoming request data.\n",
        "\n",
        "- The main purpose of the request object is to provide a clean and convenient way to interact with the HTTP request. Without it, you would have to manually parse raw HTTP headers, query strings, and form data, which would be a complex and error-prone process.\n",
        "- The `request` object gives access to **incoming request data**:\n",
        "- Query parameters (`request.args`)\n",
        "- Form data (`request.form`)\n",
        "- JSON data (`request.json`)\n",
        "- Headers (`request.headers`)\n",
        "- Example:\n",
        "-from flask import request\n",
        "\n",
        "- @app.route('/data', methods=['POST'])\n",
        "- def get_data():\n",
        "-     data = request.json\n",
        "-     return {\"received\": data}\n",
        "\n",
        "\n",
        "## Q14. How do you create a RESTful API endpoint using Flask?\n",
        "- Creating a RESTful API endpoint in Flask is a straightforward process that involves using the @app.route() decorator to define the URL and allowed HTTP methods. The basic steps are as follows:\n",
        "- Import necessary modules: You'll need Flask and often jsonify to return JSON responses, and request to handle incoming data.\n",
        "\n",
        "- Create a Flask application instance: app = Flask(__name__).\n",
        "\n",
        "- Define a route using @app.route(): This decorator links a URL path to a Python function.\n",
        "\n",
        "- Specify HTTP methods: Use the methods argument in the decorator to define which HTTP methods (e.g., GET, POST, PUT, DELETE) your endpoint will accept.\n",
        "\n",
        "- Write the view function: This is the Python function that will execute when the endpoint is accessed.\n",
        "\n",
        "- Process data (if needed): Use the request object to access data from the client, such as form data (request.form), query parameters (request.args), or JSON payloads (request.get_json()).\n",
        "\n",
        "- Return a response: For a RESTful API, you'll typically return JSON data. The jsonify function helps you convert a Python dictionary or list into a JSON response with the correct headers.\n",
        "\n",
        "-Example:\n",
        "- @app.route('/users/<int:id>', methods=['GET'])\n",
        "- def get_user(id):\n",
        "-     return {\"id\": id, \"name\": \"John Doe\"}\n",
        "- This returns a **user resource** in JSON format.\n",
        "\n",
        "\n",
        "\n",
        "## Q15. What is the purpose of Flask's jsonify() function?\n",
        "- The jsonify() function in Flask is a utility that serializes a Python dictionary, list, or other data structures into a JSON-formatted string and returns it as a Flask Response object.\n",
        "\n",
        "- Its primary purpose is to simplify the process of creating JSON responses for web APIs. While you could manually convert a Python dictionary to a JSON string using Python's built-in json module, jsonify() handles this and a few other crucial steps for you automatically.\n",
        "\n",
        "- Sets the Content-Type Header: When you return a response from a Flask route, the browser needs to know the type of content it's receiving. jsonify() automatically sets the Content-Type header of the HTTP response to application/json, which is the standard for RESTful APIs. This tells the client (e.g., a JavaScript application) that the body of the response is JSON data.\n",
        "\n",
        "- Handles Serialization: It correctly serializes Python data types into their corresponding JSON formats. For example, a Python dictionary becomes a JSON object, a list becomes a JSON array, and booleans (True/False) and numbers are converted correctly. This prevents common serialization errors.\n",
        "\n",
        "- Encodes the Data: It takes care of encoding the JSON string into bytes, which is required before sending it over the network as an HTTP response.\n",
        "\n",
        "\n",
        "\n",
        "## Q16. Explain Flask’s url_for() function.\n",
        "- Flask's url_for() function is a powerful and essential helper that generates a URL for a given view function. Instead of hard-coding URLs directly into your templates or code, url_for() creates them dynamically based on the name of the function.\n",
        "\n",
        "- Purpose and Benefits:\n",
        "- Avoids Hard-coding URLs: The most significant benefit is that it prevents you from manually typing out URLs like /about or /user/123. If you ever decide to change the URL path of a route (e.g., from /about to /about-us), you only need to change it in one place (the @app.route() decorator). All your links and redirects created with url_for() will automatically update. This makes your application much more maintainable and flexible.\n",
        "\n",
        "- Handles Dynamic URLs: When your routes have variable parts (e.g., <username> or <post_id>), url_for() makes it easy to generate the correct URL by passing the variable as a keyword argument.\n",
        "\n",
        "- Generates URLs for Static Files: url_for() is also used to generate URLs for static files (CSS, JavaScript, images) in the static folder.\n",
        "\n",
        "- Handles Blueprints: When using blueprints, url_for() is smart enough to generate the correct URL. You simply prefix the function name with the blueprint name, like url_for('my_blueprint.my_function').\n",
        "\n",
        "- Example:\n",
        "- from flask import url_for\n",
        "\n",
        "- @app.route('/link')\n",
        "- def link():\n",
        "-     return f\"Go to {url_for('hello')}\"\n",
        "\n",
        "\n",
        "\n",
        "## Q17. How does Flask handle static files?\n",
        "- Flask handles static files like CSS, JavaScript, and images through a dedicated directory and the url_for() function. This mechanism ensures that these files are served correctly to the client's web browser, separate from your dynamic Python code.\n",
        "\n",
        "- The static Folder: By convention, Flask looks for a directory named static inside your application's root folder. This is the designated place to store all your static assets.\n",
        "\n",
        "- Serving Static Files with url_for(): To link to a static file in your HTML templates, you use the url_for() function with the special endpoint name 'static'. You then pass the file's path relative to the static folder using the filename argument\n",
        "\n",
        "- While Flask handles this automatically for you, for production environments, it is often recommended to serve static files using a dedicated web server (like Nginx or Apache) for better performance, as they are optimized for serving static content.\n",
        "\n",
        "- Flask serves files from a folder named `static/`.  \n",
        "- Example: `http://localhost:5000/static/style.css`.  \n",
        "- Useful for CSS, JavaScript, and images.\n",
        "\n",
        "\n",
        "\n",
        "## Q18. What is an API specification, and how does it help in building a Flask API?\n",
        "- An API specification (or API contract) is a detailed, machine-readable document that describes all the endpoints, data models, and operations of a web API. It acts as a blueprint or a contract between the API provider and its consumers, defining exactly how the API behaves\n",
        "\n",
        "- Popular formats for API specifications include OpenAPI (formerly Swagger) and API Blueprint.\n",
        "\n",
        "- Clear Documentation: An API specification provides a single source of truth for your API's functionality. It describes each endpoint, the required parameters, the format of the request body, and the structure of the response payload, including success and error codes. This makes it easy for developers (both internal and external) to understand and use your API without needing to look at your source code\n",
        "\n",
        "- Automated Documentation Generation: Tools like Swagger UI can consume an OpenAPI specification file (e.g., a swagger.json or swagger.yaml file) and automatically generate interactive, browsable documentation. This means you can keep your API documentation in sync with your codebase without manual effort.\n",
        "\n",
        "- Code Generation (Client and Server): Many tools can generate boilerplate code for both the client and server directly from an API specification\n",
        "\n",
        "- Testing and Validation: The specification can be used to validate requests and responses. Tools can automatically check if the incoming request payload matches the defined schema, which helps prevent malformed requests from reaching your business logic\n",
        "\n",
        "- Mock Servers: Before the actual API is built, a mock server can be generated from the specification. This allows client-side developers to start building and testing their applications against the API immediately, even if the backend is not yet complete\n",
        "\n",
        "- Defines how the API should behave (endpoints, methods, input/output).  \n",
        "- Helps maintain **consistency** and avoids confusion.  \n",
        "- Makes collaboration between **frontend & backend** easier.  \n",
        "- Tools: **Swagger, Postman**.\n",
        "\n",
        "\n",
        "\n",
        "## Q19. What are HTTP status codes, and why are they important?\n",
        "- HTTP status codes are three-digit numbers returned by a web server to a client in response to an HTTP request. They are a fundamental part of the HTTP protocol and serve as a standardized way to communicate the outcome of the request.\n",
        "\n",
        "-  (Informational): The request has been received and the process is continuing. (e.g., 100 Continue)\n",
        "\n",
        "- (Success): The request was successfully received, understood, and accepted. (e.g., 200 OK, 201 Created)\n",
        "\n",
        "-  (Redirection): The client must take additional action to complete the request. (e.g., 301 Moved Permanently, 304 Not Modified)\n",
        "\n",
        "-  (Client Error): The request contains bad syntax or cannot be fulfilled. This is a problem on the client's side. (e.g., 400 Bad Request, 404 Not Found, 403 Forbidden)\n",
        "\n",
        "-  (Server Error): The server failed to fulfill an apparently valid request. This is a problem on the server's side. (e.g., 500 Internal Server Error, 503 Service Unavailable)\n",
        "\n",
        "- in Flask, it's considered a best practice to return an appropriate status code with every response. While returning a string or dictionary defaults to a 200 OK status, you can explicitly set the code by returning it as the second value in the return tuple, as shown in the previous examples (return jsonify(new_item), 201).\n",
        "\n",
        "\n",
        "\n",
        "## Q20. How do you handle POST requests in Flask?\n",
        "- Handling POST requests in Flask is a common task, especially for forms and API endpoints that need to create or update data on the server. The process involves a few key steps:\n",
        "\n",
        "- 1. Specifying the Method in the Route\n",
        "You must explicitly tell Flask that your route is designed to handle POST requests by using the methods argument in the @app.route() decorator.\n",
        "\n",
        "- 2. Accessing the Request Data: Once the request is routed to your view function, you use Flask's request object to access the data sent from the client. The way you access the data depends on how it was sent.\n",
        "\n",
        "- HTML Form Data (application/x-www-form-urlencoded or multipart/form-data):\n",
        "The data is available in the request.form attribute, which acts like a dictionary.\n",
        "\n",
        "- JSON Data (application/json):: This is typical for API requests. You use request.get_json() to parse the JSON payload into a Python dictionary.\n",
        "\n",
        "- 3. Returning a Response:: Finally, you return a response, which should typically include an appropriate HTTP status code to indicate the outcome of the request. For a successful POST that creates a new resource, a 201 Created status code is best practice.\n",
        "\n",
        "-Example::\n",
        "- @app.route('/submit', methods=['POST'])\n",
        "- def submit():\n",
        "-    name = request.form['name']\n",
        "-    return f\"Hello {name}\"\n",
        "\n",
        "\n",
        "\n",
        "## Q21. How would you secure a Flask API?\n",
        "- Securing a Flask API is a critical and multi-faceted process that goes beyond just adding a password. A secure API protects data in transit and at rest, authenticates users and applications, and prevents common web vulnerabilities.\n",
        "\n",
        "- Authentication and Authorization\n",
        "- Token-Based Authentication: For APIs, session-based authentication isn't practical. The standard approach is to use tokens, such as JSON Web Tokens (JWTs). Upon successful login, the server issues a JWT to the client. The client then includes this token in the Authorization header of every subsequent request. The server validates the token to ensure the request is from an authenticated user. Libraries like Flask-JWT-Extended simplify this process.\n",
        "\n",
        "- Authorization (Role-Based Access Control): Beyond authentication, you need to ensure that an authenticated user is authorized to perform a specific action. You can implement role-based access control (RBAC) where users are assigned roles (e.g., admin, user), and each role has specific permissions. You can then use decorators to protect routes, allowing access only to users with the required roles or permissions\n",
        "\n",
        "- HTTPS and Data Encryption\n",
        "- Use HTTPS: All communication between the client and your API should be encrypted using HTTPS. This prevents \"man-in-the-middle\" attacks where an attacker could intercept and read the data being exchanged. For development, you can use self-signed certificates, but in production, you should use a trusted certificate from a certificate authority. You can use a web server like Nginx or a service like Flask-Talisman to enforce HTTPS\n",
        "\n",
        "-  Input Validation and Sanitization\n",
        "- Never Trust User Input: This is a golden rule of web development. All data received from the client should be validated and sanitized before being used. This protects against common attacks like SQL Injection and Cross-Site Scripting (XSS). Libraries like Flask-WTF or custom validation logic can ensure that data types and formats are correct and that malicious\n",
        "\n",
        "-  Handling Sensitive Data\n",
        "- Protect Secrets: Hard-coding API keys, passwords, or other sensitive information directly in your code is a major security risk. Use environment variables or a secrets management service to store these values. Flask's configuration can easily read from environment variables.\n",
        "\n",
        "- Cross-Origin Resource Sharing (CORS)\n",
        "- Manage CORS: If your API is accessed from a different domain (e.g., a JavaScript frontend hosted on example.com calling an API at api.example.com), you need to handle CORS. Without it, the browser will block the request. Use the Flask-CORS extension to configure which origins, methods, and headers are allowed to access your API.\n",
        "\n",
        "\n",
        "\n",
        "## Q22. What is the significance of the Flask-RESTful extension?\n",
        "- Flask-RESTful is a popular extension for Flask that significantly simplifies the process of building REST APIs. While Flask is a \"micro-framework\" that provides the essentials, Flask-RESTful adds a structured, opinionated layer specifically for API development.\n",
        "\n",
        "- The significance of Flask-RESTful lies in its ability to reduce boilerplate code and encourage best practices in API design. Instead of defining routes and handling different HTTP methods (GET, POST, PUT, etc.) within separate, unconnected functions, Flask-RESTful uses a class-based approach known as \"Resources.\"\n",
        "\n",
        "- Resource-Oriented Design: The core concept of Flask-RESTful is the Resource class. Each resource (e.g., User, Product) is a class that inherits from flask_restful.Resource. Inside this class, you define methods with names corresponding to HTTP verbs (get(), post(), put(), delete()). This approach automatically maps the HTTP request to the correct method, making your code cleaner and more organized.\n",
        "\n",
        "- Reduced Boilerplate: It handles the repetitive tasks of API development, such as parsing requests, formatting responses (JSON is the default), and managing content negotiation. This frees you from having to write this code for every endpoint.\n",
        "\n",
        "- Simplified Request Parsing: Flask-RESTful's reqparse module provides a powerful way to define and validate the arguments your API expects. You can specify argument types, whether they are required, and provide a helpful error message if validation fails. This is much cleaner than manually checking request data\n",
        "\n",
        "- Automatic Error Handling: It provides built-in exception handling for common HTTP errors (e.g., 404 Not Found, 400 Bad Request), which you can customize to return consistent JSON error messages.\n",
        "\n",
        "- Data Marshalling: The fields and marshal_with decorators allow you to precisely control which fields are included in your API responses, ensuring consistency and preventing sensitive data from being accidentally exposed\n",
        "\n",
        "\n",
        "## Q23. What is the role of Flask’s session object?\n",
        "- The `session` object stores **data across requests for a user**.  \n",
        "- It uses cookies but is **signed** (cannot be modified by client).  \n",
        "- Useful for login/authentication systems.  \n",
        "- Example::\n",
        "- from flask import session\n",
        "\n",
        "- app.secret_key = \"secret123\"\n",
        "\n",
        "- @app.route('/login')\n",
        "- def login():\n",
        "-     session['user'] = 'Elbich'\n",
        "-     return \"User logged in\"\n",
        "\n",
        "\n",
        "\n",
        "\n",
        "\n",
        "\n",
        "\n",
        "\n",
        "\n",
        "\n",
        "\n",
        "\n"
      ],
      "metadata": {
        "id": "hAXdCtshWDPC"
      }
    },
    {
      "cell_type": "markdown",
      "source": [
        "   **Practical Questions**"
      ],
      "metadata": {
        "id": "mkEXU9nRh9e9"
      }
    },
    {
      "cell_type": "code",
      "source": [
        "!pip install flask"
      ],
      "metadata": {
        "colab": {
          "base_uri": "https://localhost:8080/"
        },
        "id": "zmY1YAU1iFYV",
        "outputId": "37a13ec3-cfad-43d9-c91c-1e6c436215e9"
      },
      "execution_count": 1,
      "outputs": [
        {
          "output_type": "stream",
          "name": "stdout",
          "text": [
            "Requirement already satisfied: flask in /usr/local/lib/python3.12/dist-packages (3.1.2)\n",
            "Requirement already satisfied: blinker>=1.9.0 in /usr/local/lib/python3.12/dist-packages (from flask) (1.9.0)\n",
            "Requirement already satisfied: click>=8.1.3 in /usr/local/lib/python3.12/dist-packages (from flask) (8.2.1)\n",
            "Requirement already satisfied: itsdangerous>=2.2.0 in /usr/local/lib/python3.12/dist-packages (from flask) (2.2.0)\n",
            "Requirement already satisfied: jinja2>=3.1.2 in /usr/local/lib/python3.12/dist-packages (from flask) (3.1.6)\n",
            "Requirement already satisfied: markupsafe>=2.1.1 in /usr/local/lib/python3.12/dist-packages (from flask) (3.0.2)\n",
            "Requirement already satisfied: werkzeug>=3.1.0 in /usr/local/lib/python3.12/dist-packages (from flask) (3.1.3)\n"
          ]
        }
      ]
    },
    {
      "cell_type": "code",
      "source": [
        "## Q1. How do you create a basic Flask application?\n",
        "from flask import Flask\n",
        "\n",
        "app = Flask(__name__)\n",
        "\n",
        "@app.route('/')\n",
        "def home():\n",
        "  return \"This is the basic Flask Appplication\"\n",
        "\n",
        "if __name__ == '__main__':\n",
        "  app.run(debug = True)"
      ],
      "metadata": {
        "colab": {
          "base_uri": "https://localhost:8080/"
        },
        "id": "8YiU1QF2icR8",
        "outputId": "240d11f0-da21-435e-bc6a-9d1f42b5c720"
      },
      "execution_count": 2,
      "outputs": [
        {
          "output_type": "stream",
          "name": "stdout",
          "text": [
            " * Serving Flask app '__main__'\n",
            " * Debug mode: on\n"
          ]
        },
        {
          "output_type": "stream",
          "name": "stderr",
          "text": [
            "INFO:werkzeug:\u001b[31m\u001b[1mWARNING: This is a development server. Do not use it in a production deployment. Use a production WSGI server instead.\u001b[0m\n",
            " * Running on http://127.0.0.1:5000\n",
            "INFO:werkzeug:\u001b[33mPress CTRL+C to quit\u001b[0m\n",
            "INFO:werkzeug: * Restarting with watchdog (inotify)\n"
          ]
        }
      ]
    },
    {
      "cell_type": "code",
      "source": [
        "## Q2. How do you serve static files like images or CSS in Flask?\n",
        "from flask import Flask\n",
        "\n",
        "app = Flask(__name__)\n",
        "\n",
        "@app.route('/')\n",
        "def index():\n",
        "    return '''\n",
        "    <link rel=\"stylesheet\" href=\"/static/style.css\">\n",
        "    <h1>Hello with CSS 🎨</h1>\n",
        "    <img src=\"/static/example.png\" width=\"200\">\n",
        "    '''\n"
      ],
      "metadata": {
        "id": "4tYeoPlmjbuN"
      },
      "execution_count": null,
      "outputs": []
    },
    {
      "cell_type": "code",
      "source": [
        "## Q3. How do you define different routes with different HTTP methods in Flask?\n",
        "from flask import Flask, request, jsonify, render_template\n",
        "\n",
        "app = Flask(__name__)\n",
        "\n",
        "@app.route('/')\n",
        "def home():\n",
        "  return \"WElcome to Rest API & Flask Assignment\"\n",
        "\n",
        "@app.route('/about')\n",
        "def about():\n",
        "  data = \"I am doing the assignment\"\n",
        "  return data\n",
        "\n",
        "@app.route('/data')\n",
        "def user_data():\n",
        "  user_data = {\"name\":\"Elbich\", \"Course\": \"Data Analyst\"}\n",
        "\n",
        "\n",
        "if __name__ == '__main__':\n",
        "  app.run(debug = True)\n",
        "\n"
      ],
      "metadata": {
        "colab": {
          "base_uri": "https://localhost:8080/"
        },
        "id": "SbLnbXeSkEEc",
        "outputId": "ffd36494-5821-4a0b-c04d-20d97d57a0e5"
      },
      "execution_count": 3,
      "outputs": [
        {
          "output_type": "stream",
          "name": "stdout",
          "text": [
            " * Serving Flask app '__main__'\n",
            " * Debug mode: on\n"
          ]
        },
        {
          "output_type": "stream",
          "name": "stderr",
          "text": [
            "INFO:werkzeug:\u001b[31m\u001b[1mWARNING: This is a development server. Do not use it in a production deployment. Use a production WSGI server instead.\u001b[0m\n",
            " * Running on http://127.0.0.1:5000\n",
            "INFO:werkzeug:\u001b[33mPress CTRL+C to quit\u001b[0m\n",
            "INFO:werkzeug: * Restarting with watchdog (inotify)\n"
          ]
        }
      ]
    },
    {
      "cell_type": "code",
      "source": [
        "## Q4. How do you render HTML templates in Flask?\n",
        "#This is my HTML  and this is basically done for the frontend purpose\n",
        "# <!doctype html>\n",
        "#<html lang=\"en\">\n",
        "#<head>\n",
        "#    <meta charset=\"UTF-8\">\n",
        "#    <title>My Flask App</title>\n",
        "#</head>\n",
        "#<body>\n",
        "#    <h1>Hello, World!</h1>\n",
        "#</body>\n",
        "#</html>\n",
        "\n",
        "# And this is how i render HTML templates in Flask\n",
        "from flask import Flask, render_template\n",
        "\n",
        "app = Flask(__name__)\n",
        "\n",
        "@app.route('/')\n",
        "def index():\n",
        "    # This will look for 'index.html' in the 'templates' folder\n",
        "    return render_template('index.html')\n",
        "\n",
        "if __name__ == '__main__':\n",
        "    app.run(debug=True)"
      ],
      "metadata": {
        "colab": {
          "base_uri": "https://localhost:8080/"
        },
        "id": "p70u_KNtkEBb",
        "outputId": "0d731e2e-3c04-416d-f33a-a1a1c1e5bda6"
      },
      "execution_count": 4,
      "outputs": [
        {
          "output_type": "stream",
          "name": "stdout",
          "text": [
            " * Serving Flask app '__main__'\n",
            " * Debug mode: on\n"
          ]
        },
        {
          "output_type": "stream",
          "name": "stderr",
          "text": [
            "INFO:werkzeug:\u001b[31m\u001b[1mWARNING: This is a development server. Do not use it in a production deployment. Use a production WSGI server instead.\u001b[0m\n",
            " * Running on http://127.0.0.1:5000\n",
            "INFO:werkzeug:\u001b[33mPress CTRL+C to quit\u001b[0m\n",
            "INFO:werkzeug: * Restarting with watchdog (inotify)\n"
          ]
        }
      ]
    },
    {
      "cell_type": "code",
      "source": [
        "## Q5. How can you generate URLs for routes in Flask using url_for?\n",
        "from flask import Flask, url_for\n",
        "\n",
        "app = Flask(__name__)\n",
        "\n",
        "@app.route('/')\n",
        "def index():\n",
        "    # This generates a URL for the 'about' function\n",
        "    about_url = url_for('about')\n",
        "    return f'Go to the <a href=\"{about_url}\">About Page</a>'\n",
        "\n",
        "@app.route('/about')\n",
        "def about():\n",
        "    return 'This is the About Page'\n",
        "\n",
        "if __name__ == '__main__':\n",
        "    app.run(debug=True)"
      ],
      "metadata": {
        "colab": {
          "base_uri": "https://localhost:8080/"
        },
        "id": "41dmwkappzzo",
        "outputId": "0fdfba31-ad29-49b9-9b31-0411d18c2dc9"
      },
      "execution_count": 5,
      "outputs": [
        {
          "output_type": "stream",
          "name": "stdout",
          "text": [
            " * Serving Flask app '__main__'\n",
            " * Debug mode: on\n"
          ]
        },
        {
          "output_type": "stream",
          "name": "stderr",
          "text": [
            "INFO:werkzeug:\u001b[31m\u001b[1mWARNING: This is a development server. Do not use it in a production deployment. Use a production WSGI server instead.\u001b[0m\n",
            " * Running on http://127.0.0.1:5000\n",
            "INFO:werkzeug:\u001b[33mPress CTRL+C to quit\u001b[0m\n",
            "INFO:werkzeug: * Restarting with watchdog (inotify)\n"
          ]
        }
      ]
    },
    {
      "cell_type": "code",
      "source": [
        "## Q6. How do you handle forms in Flask?\n",
        "from flask import Flask, render_template, request\n",
        "\n",
        "app = Flask(__name__)\n",
        "\n",
        "@app.route('/signup', methods=['GET', 'POST'])\n",
        "def signup():\n",
        "    if request.method == 'POST':\n",
        "        username = request.form.get('username')\n",
        "        email = request.form.get('email')\n",
        "\n",
        "        # In a real app, you would save this data to a database\n",
        "        return f\"Hello, {username}! Your email is {email}.\"\n",
        "\n",
        "    return render_template('form.html')\n",
        "\n",
        "if __name__ == '__main__':\n",
        "    app.run(debug=True)"
      ],
      "metadata": {
        "colab": {
          "base_uri": "https://localhost:8080/"
        },
        "id": "_k73mh5hpz07",
        "outputId": "542845c7-89e9-4808-9c56-dfecd359332e"
      },
      "execution_count": 6,
      "outputs": [
        {
          "output_type": "stream",
          "name": "stdout",
          "text": [
            " * Serving Flask app '__main__'\n",
            " * Debug mode: on\n"
          ]
        },
        {
          "output_type": "stream",
          "name": "stderr",
          "text": [
            "INFO:werkzeug:\u001b[31m\u001b[1mWARNING: This is a development server. Do not use it in a production deployment. Use a production WSGI server instead.\u001b[0m\n",
            " * Running on http://127.0.0.1:5000\n",
            "INFO:werkzeug:\u001b[33mPress CTRL+C to quit\u001b[0m\n",
            "INFO:werkzeug: * Restarting with watchdog (inotify)\n"
          ]
        }
      ]
    },
    {
      "cell_type": "code",
      "source": [
        "## Q7. How can you validate form data in Flask?\n",
        "from flask import Flask, render_template, request, jsonify\n",
        "\n",
        "app = Flask(__name__)\n",
        "\n",
        "@app.route('/validate', methods=['POST'])\n",
        "def validate():\n",
        "    age = request.form.get('age')\n",
        "    if not age or not age.isdigit():\n",
        "        return \"Invalid Age \"\n",
        "    return f\"Your age is {age}\"\n",
        "\n",
        "if __name__ == '__main__':\n",
        "  app.run(debug = True)\n"
      ],
      "metadata": {
        "colab": {
          "base_uri": "https://localhost:8080/"
        },
        "id": "pffaNhXXp0GB",
        "outputId": "188e0886-6833-4f91-ec32-2fe9078d2f0f"
      },
      "execution_count": 8,
      "outputs": [
        {
          "output_type": "stream",
          "name": "stdout",
          "text": [
            " * Serving Flask app '__main__'\n",
            " * Debug mode: on\n"
          ]
        },
        {
          "output_type": "stream",
          "name": "stderr",
          "text": [
            "INFO:werkzeug:\u001b[31m\u001b[1mWARNING: This is a development server. Do not use it in a production deployment. Use a production WSGI server instead.\u001b[0m\n",
            " * Running on http://127.0.0.1:5000\n",
            "INFO:werkzeug:\u001b[33mPress CTRL+C to quit\u001b[0m\n",
            "INFO:werkzeug: * Restarting with watchdog (inotify)\n"
          ]
        }
      ]
    },
    {
      "cell_type": "code",
      "source": [
        "## Q8. How do you manage sessions in Flask?\n",
        "from flask import Flask, session, redirect, url_for, request, render_template\n",
        "\n",
        "app = Flask(__name__)\n",
        "app.config['SECRET_KEY'] = 'your_super_secret_key_that_you_should_change'\n",
        "\n",
        "# This route displays a welcome message if the user is logged in\n",
        "@app.route('/')\n",
        "def index():\n",
        "    if 'username' in session:\n",
        "        return f\"Hello, {session['username']}! <a href='{url_for('logout')}'>Logout</a>\"\n",
        "    return \"You are not logged in. <a href='/login'>Login Here</a>\"\n",
        "\n",
        "# This route handles the login process\n",
        "@app.route('/login', methods=['GET', 'POST'])\n",
        "def login():\n",
        "    if request.method == 'POST':\n",
        "        # Get the username from the form and store it in the session\n",
        "        session['username'] = request.form.get('username')\n",
        "        return redirect(url_for('index'))\n",
        "\n",
        "    # For a GET request, display the login form\n",
        "    return render_template('login.html')\n",
        "\n",
        "# This route clears the session, effectively logging the user out\n",
        "@app.route('/logout')\n",
        "def logout():\n",
        "    session.pop('username', None)\n",
        "    return redirect(url_for('index'))\n",
        "\n",
        "if __name__ == '__main__':\n",
        "    app.run(debug=True)"
      ],
      "metadata": {
        "colab": {
          "base_uri": "https://localhost:8080/"
        },
        "id": "ojGb-2rOp0HU",
        "outputId": "80deeb28-fa83-49a1-d0d2-9304e5411f80"
      },
      "execution_count": 9,
      "outputs": [
        {
          "output_type": "stream",
          "name": "stdout",
          "text": [
            " * Serving Flask app '__main__'\n",
            " * Debug mode: on\n"
          ]
        },
        {
          "output_type": "stream",
          "name": "stderr",
          "text": [
            "INFO:werkzeug:\u001b[31m\u001b[1mWARNING: This is a development server. Do not use it in a production deployment. Use a production WSGI server instead.\u001b[0m\n",
            " * Running on http://127.0.0.1:5000\n",
            "INFO:werkzeug:\u001b[33mPress CTRL+C to quit\u001b[0m\n",
            "INFO:werkzeug: * Restarting with watchdog (inotify)\n"
          ]
        }
      ]
    },
    {
      "cell_type": "code",
      "source": [
        "## Q9. How do you redirect to a different route in Flask?\n",
        "from flask import Flask, redirect, url_for\n",
        "\n",
        "app = Flask(__name__)\n",
        "\n",
        "@app.route('/')\n",
        "def home():\n",
        "    return \"This is the Home page. <a href='/old-route'>Go to Old Route</a>\"\n",
        "\n",
        "@app.route('/old-route')\n",
        "def old_route():\n",
        "    # This view function redirects to the 'new_route'\n",
        "    return redirect(url_for('new_route'))\n",
        "\n",
        "@app.route('/new-route')\n",
        "def new_route():\n",
        "    return \"You have been redirected to the New Route!\"\n",
        "\n",
        "if __name__ == '__main__':\n",
        "    app.run(debug=True)"
      ],
      "metadata": {
        "colab": {
          "base_uri": "https://localhost:8080/"
        },
        "id": "l3H7zxFNp0MU",
        "outputId": "5a4b6694-623f-4920-a50e-8e582795830a"
      },
      "execution_count": 10,
      "outputs": [
        {
          "output_type": "stream",
          "name": "stdout",
          "text": [
            " * Serving Flask app '__main__'\n",
            " * Debug mode: on\n"
          ]
        },
        {
          "output_type": "stream",
          "name": "stderr",
          "text": [
            "INFO:werkzeug:\u001b[31m\u001b[1mWARNING: This is a development server. Do not use it in a production deployment. Use a production WSGI server instead.\u001b[0m\n",
            " * Running on http://127.0.0.1:5000\n",
            "INFO:werkzeug:\u001b[33mPress CTRL+C to quit\u001b[0m\n",
            "INFO:werkzeug: * Restarting with watchdog (inotify)\n"
          ]
        }
      ]
    },
    {
      "cell_type": "code",
      "source": [
        "## Q10. How do you handle errors in Flask (e.g., 404)?\n",
        "from flask import Flask, render_template\n",
        "\n",
        "app = Flask(__name__)\n",
        "\n",
        "\n",
        "@app.errorhandler(404)\n",
        "def page_not_found(error):\n",
        "  return render_template('404.html'), 404\n",
        "\n",
        "\n",
        "@app.route('/')\n",
        "def index():\n",
        "  return \"This is the Home Page.\"\n",
        "\n",
        "if __name__ == '__main__':\n",
        "    app.run(debug=True)"
      ],
      "metadata": {
        "colab": {
          "base_uri": "https://localhost:8080/"
        },
        "id": "SRLIkGyzkD91",
        "outputId": "26347d02-37de-4ff6-9e0c-10397b0900ee"
      },
      "execution_count": 11,
      "outputs": [
        {
          "output_type": "stream",
          "name": "stdout",
          "text": [
            " * Serving Flask app '__main__'\n",
            " * Debug mode: on\n"
          ]
        },
        {
          "output_type": "stream",
          "name": "stderr",
          "text": [
            "INFO:werkzeug:\u001b[31m\u001b[1mWARNING: This is a development server. Do not use it in a production deployment. Use a production WSGI server instead.\u001b[0m\n",
            " * Running on http://127.0.0.1:5000\n",
            "INFO:werkzeug:\u001b[33mPress CTRL+C to quit\u001b[0m\n",
            "INFO:werkzeug: * Restarting with watchdog (inotify)\n"
          ]
        }
      ]
    },
    {
      "cell_type": "code",
      "source": [
        "## Q11. How do you structure a Flask app using Blueprints?\n",
        "from flask import Blueprint, render_template\n",
        "\n",
        "# Create a Blueprint instance\n",
        "auth_bp = Blueprint('auth', __name__, template_folder='templates')\n",
        "\n",
        "@auth_bp.route('/login')\n",
        "def login():\n",
        "    return \"This is the login page from the auth blueprint.\"\n",
        "\n",
        "@auth_bp.route('/logout')\n",
        "def logout():\n",
        "    return \"This is the logout page from the auth blueprint.\""
      ],
      "metadata": {
        "id": "OlLtHnIxsqEg"
      },
      "execution_count": null,
      "outputs": []
    },
    {
      "cell_type": "code",
      "source": [
        "from flask import Flask\n",
        "from blueprints.auth import auth_bp\n",
        "from blueprints.blog import blog_bp\n",
        "\n",
        "app = Flask(__name__)\n",
        "\n",
        "# Register the 'auth' blueprint with a URL prefix\n",
        "app.register_blueprint(auth_bp, url_prefix='/auth')\n",
        "\n",
        "# Register the 'blog' blueprint with a URL prefix\n",
        "app.register_blueprint(blog_bp, url_prefix='/blog')\n",
        "\n",
        "@app.route('/')\n",
        "def index():\n",
        "    return \"This is the main application home page.\"\n",
        "\n",
        "if __name__ == '__main__':\n",
        "    app.run(debug=True)"
      ],
      "metadata": {
        "id": "W2vk9J8HsqIH"
      },
      "execution_count": null,
      "outputs": []
    },
    {
      "cell_type": "code",
      "source": [
        "## Q12. How do you define a custom Jinja filter in Flask?\n",
        "from flask import Flask, render_template\n",
        "import markdown\n",
        "\n",
        "app = Flask(__name__)\n",
        "\n",
        "@app.template_filter('markdown_to_html')\n",
        "def markdown_to_html_filter(text):\n",
        "    return markdown.markdown(text)\n",
        "\n",
        "@app.route('/')\n",
        "def index():\n",
        "    content = '# Hello, Flask!\\n\\nThis is a *custom* **Jinja filter** in action.'\n",
        "    return render_template('index.html', content=content)\n",
        "\n",
        "\n",
        "if __name__ == '__main__':\n",
        "    app.run(debug=True)"
      ],
      "metadata": {
        "colab": {
          "base_uri": "https://localhost:8080/"
        },
        "id": "Fu_TJWv4to6w",
        "outputId": "737949b3-4fa9-41df-a99c-eeef6f5ce1c6"
      },
      "execution_count": 12,
      "outputs": [
        {
          "output_type": "stream",
          "name": "stdout",
          "text": [
            " * Serving Flask app '__main__'\n",
            " * Debug mode: on\n"
          ]
        },
        {
          "output_type": "stream",
          "name": "stderr",
          "text": [
            "INFO:werkzeug:\u001b[31m\u001b[1mWARNING: This is a development server. Do not use it in a production deployment. Use a production WSGI server instead.\u001b[0m\n",
            " * Running on http://127.0.0.1:5000\n",
            "INFO:werkzeug:\u001b[33mPress CTRL+C to quit\u001b[0m\n",
            "INFO:werkzeug: * Restarting with watchdog (inotify)\n"
          ]
        }
      ]
    },
    {
      "cell_type": "code",
      "source": [
        "## Q13. How can you redirect with query parameters in Flask?\n",
        "from flask import Flask, redirect, url_for, request, render_template\n",
        "\n",
        "app = Flask(__name__)\n",
        "\n",
        "\n",
        "@app.route('/login', methods=['POST'])\n",
        "def login():\n",
        "    return redirect(url_for('dashboard',\n",
        "                            status='success',\n",
        "                            user=request.form.get('username')))\n",
        "@app.route('/dashboard')\n",
        "def dashboard():\n",
        "    status = request.args.get('status')\n",
        "    user = request.args.get('user')\n",
        "    message = f\"Welcome to the dashboard, {user}!\"\n",
        "    if status == 'success':\n",
        "        message += \" Your login was successful.\"\n",
        "    return message\n",
        "\n",
        "@app.route('/')\n",
        "def index():\n",
        "    return render_template('login.html')\n",
        "\n",
        "\n",
        "if __name__ == '__main__':\n",
        "    app.run(debug=True)"
      ],
      "metadata": {
        "colab": {
          "base_uri": "https://localhost:8080/"
        },
        "id": "orVSpCg4tpKX",
        "outputId": "01d4fbd8-f96f-4ba2-f13d-278a145e1407"
      },
      "execution_count": 13,
      "outputs": [
        {
          "output_type": "stream",
          "name": "stdout",
          "text": [
            " * Serving Flask app '__main__'\n",
            " * Debug mode: on\n"
          ]
        },
        {
          "output_type": "stream",
          "name": "stderr",
          "text": [
            "INFO:werkzeug:\u001b[31m\u001b[1mWARNING: This is a development server. Do not use it in a production deployment. Use a production WSGI server instead.\u001b[0m\n",
            " * Running on http://127.0.0.1:5000\n",
            "INFO:werkzeug:\u001b[33mPress CTRL+C to quit\u001b[0m\n",
            "INFO:werkzeug: * Restarting with watchdog (inotify)\n"
          ]
        }
      ]
    },
    {
      "cell_type": "code",
      "source": [
        "## Q14. How do you return JSON responses in Flask?\n",
        "from flask import Flask, jsonify, request\n",
        "\n",
        "app = Flask(__name__)\n",
        "\n",
        "@app.route('/api/items', methods=['POST'])\n",
        "def create_item():\n",
        "    new_item = request.get_json()\n",
        "    return jsonify({\n",
        "        \"message\": \"Item created successfully\",\n",
        "        \"item\": new_item\n",
        "    }), 201\n",
        "\n",
        "\n",
        "\n",
        "if __name__ == '__main__':\n",
        "    app.run(debug=True)"
      ],
      "metadata": {
        "colab": {
          "base_uri": "https://localhost:8080/"
        },
        "id": "dxRKAws8tpYP",
        "outputId": "0065fd2f-4c49-4d25-c1f3-ac6e352c67ed"
      },
      "execution_count": 14,
      "outputs": [
        {
          "output_type": "stream",
          "name": "stdout",
          "text": [
            " * Serving Flask app '__main__'\n",
            " * Debug mode: on\n"
          ]
        },
        {
          "output_type": "stream",
          "name": "stderr",
          "text": [
            "INFO:werkzeug:\u001b[31m\u001b[1mWARNING: This is a development server. Do not use it in a production deployment. Use a production WSGI server instead.\u001b[0m\n",
            " * Running on http://127.0.0.1:5000\n",
            "INFO:werkzeug:\u001b[33mPress CTRL+C to quit\u001b[0m\n",
            "INFO:werkzeug: * Restarting with watchdog (inotify)\n"
          ]
        }
      ]
    },
    {
      "cell_type": "code",
      "source": [
        "## Q15. How do you capture URL parameters in Flask?\n",
        "from flask import Flask\n",
        "\n",
        "app = Flask(__name__)\n",
        "\n",
        "@app.route('/user/<username>')\n",
        "def show_user_profile(username):\n",
        "    return f'User Profile for: {username}'\n",
        "\n",
        "\n",
        "@app.route('/post/<int:post_id>')\n",
        "def show_post(post_id):\n",
        "    return f'Post ID: {post_id}'\n",
        "\n",
        "\n",
        "if __name__ == '__main__':\n",
        "    app.run(debug=True)"
      ],
      "metadata": {
        "colab": {
          "base_uri": "https://localhost:8080/"
        },
        "id": "A8KYlNdetplX",
        "outputId": "70957f2c-92e2-467c-db7f-4a6876f6fd7c"
      },
      "execution_count": 15,
      "outputs": [
        {
          "output_type": "stream",
          "name": "stdout",
          "text": [
            " * Serving Flask app '__main__'\n",
            " * Debug mode: on\n"
          ]
        },
        {
          "output_type": "stream",
          "name": "stderr",
          "text": [
            "INFO:werkzeug:\u001b[31m\u001b[1mWARNING: This is a development server. Do not use it in a production deployment. Use a production WSGI server instead.\u001b[0m\n",
            " * Running on http://127.0.0.1:5000\n",
            "INFO:werkzeug:\u001b[33mPress CTRL+C to quit\u001b[0m\n",
            "INFO:werkzeug: * Restarting with watchdog (inotify)\n"
          ]
        }
      ]
    },
    {
      "cell_type": "markdown",
      "source": [
        "  **THE END**\n"
      ],
      "metadata": {
        "id": "VjIrnGypvZYg"
      }
    },
    {
      "cell_type": "markdown",
      "source": [
        "   **THANK YOU**"
      ],
      "metadata": {
        "id": "T-5gCYxyvm0N"
      }
    }
  ]
}